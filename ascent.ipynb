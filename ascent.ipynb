{
 "cells": [
  {
   "cell_type": "code",
   "execution_count": 1,
   "metadata": {
    "collapsed": true
   },
   "outputs": [],
   "source": [
    "#%matplotlib inline\n",
    "import matplotlib.pyplot as plt\n",
    "import pandas as pd\n",
    "import numpy as np\n"
   ]
  },
  {
   "cell_type": "code",
   "execution_count": 2,
   "metadata": {
    "collapsed": true
   },
   "outputs": [],
   "source": [
    "stocksymlist = [\"MSFT\", \"AXP\", \"BA\", \"CAT\", \"CVX\", \"CSCO\", \"KO\", \"DIS\",  \"XOM\", \"GE\", \"GS\",\n",
    "                \"HD\", \"IBM\", \"JNJ\", \"JPM\", \"MCD\", \"MRK\", \"NKE\", \"PFE\", \"PG\", \"UTX\", \"UNH\", \"VZ\",\n",
    "                \"V\", \"WMT\"]\n"
   ]
  },
  {
   "cell_type": "code",
   "execution_count": 3,
   "metadata": {},
   "outputs": [
    {
     "data": {
      "text/html": [
       "<div>\n",
       "<table border=\"1\" class=\"dataframe\">\n",
       "  <thead>\n",
       "    <tr style=\"text-align: right;\">\n",
       "      <th></th>\n",
       "      <th>change</th>\n",
       "      <th>changeOverTime</th>\n",
       "      <th>changePercent</th>\n",
       "      <th>close</th>\n",
       "      <th>date</th>\n",
       "      <th>high</th>\n",
       "      <th>label</th>\n",
       "      <th>low</th>\n",
       "      <th>open</th>\n",
       "      <th>unadjustedVolume</th>\n",
       "      <th>volume</th>\n",
       "      <th>vwap</th>\n",
       "    </tr>\n",
       "  </thead>\n",
       "  <tbody>\n",
       "    <tr>\n",
       "      <th>0</th>\n",
       "      <td>1.14490</td>\n",
       "      <td>0.000000</td>\n",
       "      <td>0.775</td>\n",
       "      <td>148.8215</td>\n",
       "      <td>2013-06-17</td>\n",
       "      <td>149.5275</td>\n",
       "      <td>Jun 17, 13</td>\n",
       "      <td>147.7167</td>\n",
       "      <td>148.6858</td>\n",
       "      <td>136114269</td>\n",
       "      <td>136114269</td>\n",
       "      <td>148.8463</td>\n",
       "    </tr>\n",
       "    <tr>\n",
       "      <th>1</th>\n",
       "      <td>1.17200</td>\n",
       "      <td>0.007876</td>\n",
       "      <td>0.788</td>\n",
       "      <td>149.9936</td>\n",
       "      <td>2013-06-18</td>\n",
       "      <td>150.2243</td>\n",
       "      <td>Jun 18, 13</td>\n",
       "      <td>148.8940</td>\n",
       "      <td>148.9030</td>\n",
       "      <td>114592356</td>\n",
       "      <td>114592356</td>\n",
       "      <td>149.6537</td>\n",
       "    </tr>\n",
       "    <tr>\n",
       "      <th>2</th>\n",
       "      <td>-2.06800</td>\n",
       "      <td>-0.006020</td>\n",
       "      <td>-1.379</td>\n",
       "      <td>147.9256</td>\n",
       "      <td>2013-06-19</td>\n",
       "      <td>150.1338</td>\n",
       "      <td>Jun 19, 13</td>\n",
       "      <td>147.8622</td>\n",
       "      <td>149.8714</td>\n",
       "      <td>205916944</td>\n",
       "      <td>205916944</td>\n",
       "      <td>149.2836</td>\n",
       "    </tr>\n",
       "    <tr>\n",
       "      <th>3</th>\n",
       "      <td>-3.66530</td>\n",
       "      <td>-0.030649</td>\n",
       "      <td>-2.478</td>\n",
       "      <td>144.2602</td>\n",
       "      <td>2013-06-20</td>\n",
       "      <td>147.9408</td>\n",
       "      <td>Jun 20, 13</td>\n",
       "      <td>143.8801</td>\n",
       "      <td>146.4866</td>\n",
       "      <td>320785551</td>\n",
       "      <td>320785551</td>\n",
       "      <td>145.4225</td>\n",
       "    </tr>\n",
       "    <tr>\n",
       "      <th>4</th>\n",
       "      <td>0.46317</td>\n",
       "      <td>-0.027537</td>\n",
       "      <td>0.321</td>\n",
       "      <td>144.7234</td>\n",
       "      <td>2013-06-21</td>\n",
       "      <td>145.3512</td>\n",
       "      <td>Jun 21, 13</td>\n",
       "      <td>143.2677</td>\n",
       "      <td>145.2420</td>\n",
       "      <td>271424782</td>\n",
       "      <td>271424782</td>\n",
       "      <td>144.4589</td>\n",
       "    </tr>\n",
       "  </tbody>\n",
       "</table>\n",
       "</div>"
      ],
      "text/plain": [
       "    change  changeOverTime  changePercent     close       date      high  \\\n",
       "0  1.14490        0.000000          0.775  148.8215 2013-06-17  149.5275   \n",
       "1  1.17200        0.007876          0.788  149.9936 2013-06-18  150.2243   \n",
       "2 -2.06800       -0.006020         -1.379  147.9256 2013-06-19  150.1338   \n",
       "3 -3.66530       -0.030649         -2.478  144.2602 2013-06-20  147.9408   \n",
       "4  0.46317       -0.027537          0.321  144.7234 2013-06-21  145.3512   \n",
       "\n",
       "        label       low      open  unadjustedVolume     volume      vwap  \n",
       "0  Jun 17, 13  147.7167  148.6858         136114269  136114269  148.8463  \n",
       "1  Jun 18, 13  148.8940  148.9030         114592356  114592356  149.6537  \n",
       "2  Jun 19, 13  147.8622  149.8714         205916944  205916944  149.2836  \n",
       "3  Jun 20, 13  143.8801  146.4866         320785551  320785551  145.4225  \n",
       "4  Jun 21, 13  143.2677  145.2420         271424782  271424782  144.4589  "
      ]
     },
     "execution_count": 3,
     "metadata": {},
     "output_type": "execute_result"
    }
   ],
   "source": [
    "df_spy = pd.read_json('https://api.iextrading.com/1.0/stock/'\n",
    "            +'spy'+'/chart/5y')\n",
    "df_spy.head()"
   ]
  },
  {
   "cell_type": "code",
   "execution_count": 11,
   "metadata": {
    "collapsed": true
   },
   "outputs": [],
   "source": [
    "full_spy_close = np.array(df_spy['close'])[1:]"
   ]
  },
  {
   "cell_type": "code",
   "execution_count": null,
   "metadata": {
    "collapsed": true
   },
   "outputs": [],
   "source": []
  },
  {
   "cell_type": "code",
   "execution_count": 8,
   "metadata": {},
   "outputs": [
    {
     "name": "stdout",
     "output_type": "stream",
     "text": [
      "dict done\n"
     ]
    }
   ],
   "source": [
    "def fillDict():\n",
    "    dfDict = {}\n",
    "    for sym in stocksymlist:\n",
    "        df_close = pd.DataFrame()\n",
    "        df_temp = pd.read_json('https://api.iextrading.com/1.0/stock/'\n",
    "            +sym+'/chart/5y')\n",
    "        df_temp.set_index('date',inplace=True)\n",
    "        #df_close = df_temp[['volume','close']]\n",
    "        df_close = df_temp[['close']]\n",
    "\n",
    "        dfDict[sym] = df_close\n",
    "    return dfDict\n",
    "dfDict = fillDict()\n",
    "print(\"dict done\")"
   ]
  },
  {
   "cell_type": "code",
   "execution_count": 9,
   "metadata": {},
   "outputs": [
    {
     "data": {
      "text/plain": [
       "1260"
      ]
     },
     "execution_count": 9,
     "metadata": {},
     "output_type": "execute_result"
    }
   ],
   "source": [
    "len(full_spy_close)"
   ]
  },
  {
   "cell_type": "code",
   "execution_count": 39,
   "metadata": {},
   "outputs": [
    {
     "name": "stdout",
     "output_type": "stream",
     "text": [
      "cgrs done\n"
     ]
    }
   ],
   "source": [
    "def calcCGRs(start):\n",
    "    sigmas = []\n",
    "    drifts = []\n",
    "    closes = []\n",
    "    cgrs = []\n",
    "    covmat = []\n",
    "    \n",
    "    keys = dfDict.keys()\n",
    "    \n",
    "    for key in keys:\n",
    "        stock = dfDict[key]\n",
    "        price = np.array(stock.close)\n",
    "        pricep1 = np.roll(price,1)\n",
    "        lnratio = price/pricep1\n",
    "        cgr = np.log(lnratio)\n",
    "        cgr[0]=999.99\n",
    "        cgr = cgr[start:start+252]\n",
    "        spy_close = full_spy_close[start:start+252]\n",
    "        spy_close = spy_close/spy_close[0]\n",
    "        closes.append(price[start:start+252])\n",
    "        sigma = np.std(cgr)\n",
    "        sigmas.append(sigma)\n",
    "        drift = np.mean(cgr)\n",
    "        drifts.append(drift)\n",
    "        cgrs.append(cgr)\n",
    "        \n",
    "    closes = np.array(closes)\n",
    "    sigmas = np.array(sigmas)\n",
    "    drifts = np.array(drifts)\n",
    "    covmat = np.cov(cgrs)\n",
    "    cgrs = np.array(cgrs)\n",
    "    \n",
    "    return (closes, sigmas, drifts, -drifts, spy_close, covmat, cgrs)\n",
    "\n",
    "(closes, sigmas, drifts, ndrifts, spy, covmat, cgrs) = calcCGRs(len(dfDict[\"MSFT\"])-252)\n",
    "\n",
    "print(\"cgrs done\")"
   ]
  },
  {
   "cell_type": "code",
   "execution_count": 13,
   "metadata": {
    "collapsed": true
   },
   "outputs": [],
   "source": [
    "def risk(weights):\n",
    "    cv = np.dot(covmat, weights)\n",
    "    return (np.dot(weights, cv))**0.5"
   ]
  },
  {
   "cell_type": "code",
   "execution_count": 14,
   "metadata": {
    "collapsed": true
   },
   "outputs": [],
   "source": [
    "def return_rate(weights):\n",
    "        return np.dot(weights, drifts)"
   ]
  },
  {
   "cell_type": "code",
   "execution_count": 15,
   "metadata": {
    "collapsed": true
   },
   "outputs": [],
   "source": [
    "def return_rate2(weights):\n",
    "        return -np.dot(weights, ndrifts)"
   ]
  },
  {
   "cell_type": "code",
   "execution_count": 16,
   "metadata": {
    "collapsed": true
   },
   "outputs": [],
   "source": [
    " def sharpe(weights):\n",
    "        return return_rate(weights)/risk(weights)"
   ]
  },
  {
   "cell_type": "code",
   "execution_count": 17,
   "metadata": {
    "collapsed": true
   },
   "outputs": [],
   "source": [
    " def sharpe2(weights):\n",
    "        return return_rate2(weights)/risk(weights)"
   ]
  },
  {
   "cell_type": "code",
   "execution_count": 18,
   "metadata": {
    "collapsed": true
   },
   "outputs": [],
   "source": [
    "def sharpe_grad(weights):\n",
    "    sig = risk(weights)\n",
    "    variance = sig**2\n",
    "    cpi = np.dot(covmat, weights)\n",
    "    grad = np.zeros(len(weights))\n",
    "    for i in range(len(weights)):\n",
    "        dpi = np.zeros(len(weights))\n",
    "        dpi[i] = float(1)\n",
    "        dsig = (np.dot(dpi,cpi)+np.dot(weights, np.dot(covmat, dpi))\n",
    "            )/(2*sig)\n",
    "        numer = weights[i]*drifts[i]*sig - np.dot(weights, drifts)*dsig\n",
    "        grad[i] = numer/variance\n",
    "    return grad"
   ]
  },
  {
   "cell_type": "code",
   "execution_count": 19,
   "metadata": {
    "collapsed": true
   },
   "outputs": [],
   "source": [
    "def sharpe_grad2(weights):\n",
    "        sig = risk(weights)\n",
    "        variance = sig**2\n",
    "        cpi = np.dot(covmat, weights)\n",
    "        grad = np.zeros(len(weights))\n",
    "        for i in range(len(weights)):\n",
    "            dpi = np.zeros(len(weights))\n",
    "            dpi[i] = float(1)\n",
    "            dsig = (np.dot(dpi,cpi)+np.dot(weights, np.dot(covmat, dpi))\n",
    "                )/(2*sig)\n",
    "            numer = weights[i]*ndrifts[i]*sig - np.dot(weights, ndrifts)*dsig\n",
    "            grad[i] = numer/variance\n",
    "        return grad"
   ]
  },
  {
   "cell_type": "code",
   "execution_count": 20,
   "metadata": {
    "collapsed": true
   },
   "outputs": [],
   "source": [
    "def ascent(epochs, learn_rate, short=True):\n",
    "    weights = np.zeros(len(stocksymlist))+float(1)\n",
    "    weights = weights/np.sum(weights)\n",
    "    last_sharpe = -float(\"inf\")\n",
    "    for epoch in range(epochs):\n",
    "\n",
    "         #get gradient for these weights\n",
    "        grad = sharpe_grad(weights)\n",
    "        grad *= 1.0/(np.dot(grad, grad)**0.5)\n",
    "\n",
    "        #update weights\n",
    "        weights += grad*learn_rate\n",
    "\n",
    "        normal = np.zeros(len(stocksymlist))+float(1)\n",
    "        normal *= (1-np.sum(weights))/len(stocksymlist)\n",
    "        weights += normal\n",
    "\n",
    "         #calculate new sharpe\n",
    "        current_sharpe = sharpe(weights)\n",
    "\n",
    "        #change learning rate\n",
    "        if current_sharpe/last_sharpe < 1.0:\n",
    "            learn_rate *= 0.8\n",
    "        elif current_sharpe/last_sharpe > 1.001:\n",
    "            learn_rate *= 1.1\n",
    "\n",
    "        last_sharpe = current_sharpe\n",
    "\n",
    "#             if epoch%100 == 0:\n",
    "#                 print(\"sharpe\", current_sharpe)\n",
    "#                 print(np.sum(weights))\n",
    "\n",
    "    return (weights, current_sharpe)\n",
    "\n"
   ]
  },
  {
   "cell_type": "code",
   "execution_count": 21,
   "metadata": {
    "collapsed": true
   },
   "outputs": [],
   "source": [
    "def ascent2(epochs, learn_rate, short=True):\n",
    "        weights = np.zeros(len(stocksymlist))+float(1)\n",
    "        weights = weights/np.sum(weights)\n",
    "        last_sharpe = -float(\"inf\")\n",
    "        for epoch in range(epochs):\n",
    "            \n",
    "             #get gradient for these weights\n",
    "            grad = sharpe_grad2(weights)\n",
    "            grad *= 1.0/(np.dot(grad, grad)**0.5)\n",
    "\n",
    "            #update weights\n",
    "            weights -= grad*learn_rate\n",
    "            \n",
    "            normal = np.zeros(len(stocksymlist))+float(1)\n",
    "            normal *= (1-np.sum(weights))/len(stocksymlist)\n",
    "            weights += normal\n",
    "            \n",
    "             #calculate new sharpe\n",
    "            current_sharpe = sharpe2(weights)\n",
    "\n",
    "            #change learning rate\n",
    "#             if current_sharpe/last_sharpe < 1:\n",
    "#                 learn_rate *= 0.8\n",
    "#             elif current_sharpe/last_sharpe > 1.02:\n",
    "#                 learn_rate *= 1.05\n",
    "            \n",
    "            last_sharpe = current_sharpe\n",
    "                \n",
    "#             if epoch%100 == 0:\n",
    "#                 print(\"sharpe\", current_sharpe)\n",
    "#                 print(np.sum(weights))\n",
    "\n",
    "        return (weights, current_sharpe)\n",
    "\n"
   ]
  },
  {
   "cell_type": "code",
   "execution_count": 25,
   "metadata": {
    "collapsed": true
   },
   "outputs": [],
   "source": [
    "w, s = ascent(1000, .011)"
   ]
  },
  {
   "cell_type": "code",
   "execution_count": 26,
   "metadata": {},
   "outputs": [
    {
     "name": "stdout",
     "output_type": "stream",
     "text": [
      "0.000563288756317\n",
      "0.00763232438478\n"
     ]
    },
    {
     "data": {
      "text/plain": [
       "array([ 0.03781605,  0.03882642,  0.03837343,  0.03698023,  0.04030219,\n",
       "        0.03722185,  0.04395075,  0.04066061,  0.04136742,  0.03710635,\n",
       "        0.03663985,  0.03930245,  0.03998807,  0.04065073,  0.0383129 ,\n",
       "        0.04353967,  0.04040832,  0.04002419,  0.04087489,  0.0440575 ,\n",
       "        0.04063718,  0.04064607,  0.04060194,  0.04032123,  0.04138971])"
      ]
     },
     "execution_count": 26,
     "metadata": {},
     "output_type": "execute_result"
    }
   ],
   "source": [
    "print(return_rate(w))\n",
    "print(risk(w))\n",
    "w"
   ]
  },
  {
   "cell_type": "code",
   "execution_count": 27,
   "metadata": {
    "collapsed": true
   },
   "outputs": [],
   "source": [
    "w, s = ascent2(1000, .011)"
   ]
  },
  {
   "cell_type": "code",
   "execution_count": 31,
   "metadata": {},
   "outputs": [
    {
     "name": "stdout",
     "output_type": "stream",
     "text": [
      "-0.0151933793874\n",
      "0.111707443245\n"
     ]
    },
    {
     "data": {
      "text/plain": [
       "array([-1.07140316,  0.63640053, -4.24210564, -6.35697281,  0.75572164,\n",
       "       -1.34047202,  0.4835943 ,  0.31938472,  0.30913984,  0.17316804,\n",
       "       -0.05267016,  0.30562031,  0.39509747,  0.52575871,  0.37772217,\n",
       "        1.05453288,  0.58879817,  1.06544182,  0.70826232,  0.29824867,\n",
       "        0.26581688,  1.91447946,  0.58526828,  2.60296615,  0.69820143])"
      ]
     },
     "execution_count": 31,
     "metadata": {},
     "output_type": "execute_result"
    }
   ],
   "source": [
    "print(return_rate(w))\n",
    "print(risk(w))\n",
    "w"
   ]
  },
  {
   "cell_type": "code",
   "execution_count": 29,
   "metadata": {},
   "outputs": [
    {
     "name": "stdout",
     "output_type": "stream",
     "text": [
      "0.106677875401\n",
      "0.0818780139371\n",
      "0.160480094311\n",
      "0.119103922407\n",
      "0.0810882265542\n",
      "0.0980350109636\n",
      "-0.00132199946308\n",
      "-0.0183871012499\n",
      "0.00879383078088\n",
      "-0.146773295063\n",
      "0.0254196098088\n",
      "0.0725291368017\n",
      "-0.000888319053949\n",
      "0.0214873890568\n",
      "0.0950782184523\n",
      "0.0575297866356\n",
      "-0.00999745118237\n",
      "0.0642201176346\n",
      "0.0423703903009\n",
      "-0.0597008481714\n",
      "0.0160690542498\n",
      "0.106175543603\n",
      "0.0327657001875\n",
      "0.12685454665\n",
      "0.0323962673676\n",
      "0.0745145870516\n"
     ]
    }
   ],
   "source": [
    "for i in range(len(stocksymlist)):\n",
    "    pi = np.zeros(len(stocksymlist))\n",
    "    pi[i] = float(1)\n",
    "    print(sharpe(pi))\n",
    "    \n",
    "pi = np.zeros(len(stocksymlist))+float(1)\n",
    "pi /= np.sum(pi)\n",
    "print(sharpe(pi))\n"
   ]
  },
  {
   "cell_type": "code",
   "execution_count": 244,
   "metadata": {},
   "outputs": [
    {
     "data": {
      "text/plain": [
       "252"
      ]
     },
     "execution_count": 244,
     "metadata": {},
     "output_type": "execute_result"
    }
   ],
   "source": [
    "len(closes[0])"
   ]
  },
  {
   "cell_type": "code",
   "execution_count": 81,
   "metadata": {
    "collapsed": true
   },
   "outputs": [],
   "source": [
    "def backtest(days):\n",
    "    benchw = np.zeros(len(stocksymlist)) + float(1)\n",
    "    benchw /= np.sum(benchw)\n",
    "    dailyvalues = [[10000.0], [10000.0], [10000.0]]\n",
    "    capital = float(10000.0)\n",
    "    capital2 = float(10000.0)\n",
    "    benchcap = float(10000.0)# = [float(10000.0)/len(benchw) for i in benchw]\n",
    "    startdate = len(dfDict[\"MSFT\"])-252-days-1\n",
    "    for day in range(days):\n",
    "        date = startdate+day\n",
    "        #get new values\n",
    "        (closes, sigmas, drifts, ndrifts, spy, covmat, cgrs) = calcCGRs(date)\n",
    "\n",
    "        weights = 2*ascent(2000, 0.001)[0]\n",
    "        sweights = ascent2(2000, 0.001)[0]\n",
    "        \n",
    "        #weights = ascent(1000, 0.001)[0]\n",
    "\n",
    "\n",
    "        dailyret = float(0)\n",
    "        sdailyret = float(0)\n",
    "        for i in range(len(weights)):\n",
    "            dailyret += weights[i]*closes[i][day+1]/closes[i][day]\n",
    "            sdailyret -= sweights[i]*closes[i][day+1]/closes[i][day]\n",
    "        \n",
    "        capital *= (((dailyret-1)*2) + (sdailyret-1)) +1\n",
    "        capital2 *= dailyret\n",
    "        \n",
    "        dailyvalues[0].append(capital)\n",
    "        dailyvalues[1].append(capital2)\n",
    "        dailyvalues[2].append(10000.0*spy[day])\n",
    "        \n",
    "        if day%10==0:\n",
    "            print(\"capital: \", capital)#, \"benchmark: \", benchcap)\n",
    "    print(\"final capital = \", capital)\n",
    "    return np.array(dailyvalues)"
   ]
  },
  {
   "cell_type": "code",
   "execution_count": 78,
   "metadata": {
    "collapsed": true
   },
   "outputs": [],
   "source": [
    "def backtest2(days):\n",
    "    benchw = np.zeros(len(stocksymlist)) + float(1)\n",
    "    benchw /= np.sum(benchw)\n",
    "    dailyvalues = [[10000.0], [10000.0]]\n",
    "    capital = float(10000.0)\n",
    "    benchcap = float(10000.0)# = [float(10000.0)/len(benchw) for i in benchw]\n",
    "    startdate = len(dfDict[\"MSFT\"])-252-days-1\n",
    "    for day in range(days):\n",
    "        date = startdate+day\n",
    "        #get new values\n",
    "        (closes, sigmas, drifts, ndrifts, spy, covmat, cgrs) = calcCGRs(date)\n",
    "\n",
    "        #weights = 2*ascent(2000, 0.001)[0]-ascent2(2000, 0.001)[0]\n",
    "        weights = ascent(1000, 0.001)[0]\n",
    "\n",
    "\n",
    "        dailyret = float(0)\n",
    "        for i in range(len(weights)):\n",
    "            dailyret += weights[i]*closes[i][day+1]/closes[i][day]\n",
    "        capital *= dailyret\n",
    "        \n",
    "        dailyvalues[0].append(capital)\n",
    "        dailyvalues[1].append(10000.0*spy[day])\n",
    "        \n",
    "        if day%10==0:\n",
    "            print(\"capital: \", capital)#, \"benchmark: \", benchcap)\n",
    "    print(\"final capital = \", capital)\n",
    "    return np.array(dailyvalues)"
   ]
  },
  {
   "cell_type": "code",
   "execution_count": 82,
   "metadata": {},
   "outputs": [
    {
     "name": "stdout",
     "output_type": "stream",
     "text": [
      "capital:  10292.7978776\n",
      "capital:  11014.8364305\n",
      "capital:  10847.8514607\n",
      "capital:  10381.7116221\n",
      "capital:  9954.27405691\n",
      "capital:  10323.6427591\n",
      "capital:  10633.0217118\n",
      "capital:  12459.7927777\n",
      "capital:  12794.3795152\n",
      "capital:  12869.2801562\n",
      "capital:  13845.9366888\n",
      "capital:  13988.9147701\n",
      "capital:  14092.2631583\n",
      "capital:  13889.3322872\n",
      "capital:  13819.1841386\n",
      "capital:  15111.7171598\n",
      "capital:  15719.7308418\n",
      "capital:  16649.7729559\n",
      "capital:  17612.9936849\n",
      "capital:  17902.544472\n",
      "capital:  20003.0167197\n",
      "capital:  21310.1696955\n",
      "capital:  19375.7185112\n",
      "capital:  19361.2961941\n",
      "capital:  19017.5515448\n",
      "final capital =  18436.9183799\n"
     ]
    }
   ],
   "source": [
    "d = 250\n",
    "dvals = backtest(d)"
   ]
  },
  {
   "cell_type": "code",
   "execution_count": 79,
   "metadata": {},
   "outputs": [
    {
     "name": "stdout",
     "output_type": "stream",
     "text": [
      "capital:  10092.3087875\n",
      "capital:  10279.5672093\n",
      "capital:  10290.8929644\n",
      "capital:  10118.4682323\n",
      "capital:  10010.816776\n",
      "capital:  10110.3447152\n",
      "capital:  10192.8952473\n",
      "capital:  10668.235992\n",
      "capital:  10774.6096465\n",
      "capital:  10783.2148174\n",
      "capital:  11052.8677247\n",
      "capital:  11071.5732219\n",
      "capital:  11112.8412246\n",
      "capital:  11123.3305566\n",
      "capital:  11097.2917945\n",
      "capital:  11363.3401392\n",
      "capital:  11517.5326136\n",
      "capital:  11655.4723703\n",
      "capital:  11843.030734\n",
      "capital:  11898.4015519\n",
      "capital:  12313.3604103\n",
      "capital:  12506.0265004\n",
      "capital:  12136.4922083\n",
      "capital:  12105.4784126\n",
      "capital:  12087.4919408\n",
      "final capital =  12050.1150027\n"
     ]
    }
   ],
   "source": [
    "dvals2 = backtest2(d)"
   ]
  },
  {
   "cell_type": "code",
   "execution_count": 85,
   "metadata": {},
   "outputs": [
    {
     "data": {
      "image/png": "[encoded data removed]",
      "text/plain": [
       "<matplotlib.figure.Figure at 0x1187d2a58>"
      ]
     },
     "metadata": {},
     "output_type": "display_data"
    }
   ],
   "source": [
    "days = range(0,d+1)\n",
    "algo, = plt.plot(days, dvals[0], label=\"Short\")\n",
    "long, = plt.plot(days, dvals2[0], label=\"Long\")\n",
    "bench, = plt.plot(days, dvals2[1], label=\"SPY\")\n",
    "plt.ylabel(\"Portfolio Value\")\n",
    "plt.xlabel(\"Days\")\n",
    "plt.title(str(d)+\" Days Backtest\")\n",
    "plt.legend()\n",
    "plt.show()"
   ]
  },
  {
   "cell_type": "code",
   "execution_count": 66,
   "metadata": {},
   "outputs": [
    {
     "data": {
      "text/plain": [
       "array([  1.00000000e+04,   2.01846176e+04,   4.03457024e+04,\n",
       "         8.09843008e+04,   1.63930547e+05,   3.27598100e+05,\n",
       "         6.53198143e+05,   1.31096995e+06,   2.63965966e+06,\n",
       "         5.30520217e+06,   1.05535286e+07,   2.10525536e+07,\n",
       "         4.23185724e+07,   8.51512332e+07,   1.69826408e+08,\n",
       "         3.28141759e+08,   6.66678958e+08,   1.34944958e+09,\n",
       "         2.68420309e+09,   5.36354814e+09,   1.07703818e+10,\n",
       "         2.15815668e+10,   4.31854525e+10,   8.64527167e+10,\n",
       "         1.72292206e+11,   3.43128002e+11,   6.84132778e+11,\n",
       "         1.36758983e+12,   2.72167324e+12,   5.44479919e+12,\n",
       "         1.08796082e+13,   2.17292451e+13,   4.33990211e+13,\n",
       "         8.64354919e+13,   1.73101241e+14,   3.45940123e+14,\n",
       "         6.89855991e+14,   1.37642397e+15,   2.74636044e+15,\n",
       "         5.49913329e+15,   1.10263781e+16,   2.20140189e+16,\n",
       "         4.46399202e+16,   8.89768778e+16,   1.77056602e+17,\n",
       "         3.54478360e+17,   7.12872075e+17,   1.41163467e+18,\n",
       "         2.83719357e+18,   5.72865413e+18,   1.14155533e+19,\n",
       "         2.27664723e+19,   4.56961798e+19,   9.13602768e+19,\n",
       "         1.82868492e+20,   3.67296706e+20,   7.35390730e+20,\n",
       "         1.47582897e+21,   2.96004149e+21,   5.91816229e+21,\n",
       "         1.17766881e+22,   2.35032162e+22,   4.80037111e+22,\n",
       "         9.76926841e+22,   1.95629516e+23,   3.92869214e+23,\n",
       "         7.85474014e+23,   1.57912906e+24,   3.16908833e+24,\n",
       "         6.31688753e+24,   1.26033585e+25,   2.51896600e+25,\n",
       "         5.03942825e+25,   1.00864271e+26,   2.02378037e+26,\n",
       "         4.02252126e+26,   8.04052337e+26,   1.61427089e+27,\n",
       "         3.22624089e+27,   6.45407255e+27,   1.29086027e+28,\n",
       "         2.60514076e+28,   5.20607260e+28,   1.03709583e+29,\n",
       "         2.08095091e+29,   4.16115309e+29,   8.31189387e+29,\n",
       "         1.67112529e+30,   3.35967424e+30,   6.71713367e+30,\n",
       "         1.33788373e+31,   2.66979467e+31,   5.38461135e+31,\n",
       "         1.07811071e+32,   2.16975104e+32,   4.36689304e+32,\n",
       "         8.78850731e+32,   1.75980456e+33,   3.51843604e+33,\n",
       "         7.05187327e+33,   1.40841415e+34,   2.80223488e+34,\n",
       "         5.59327835e+34,   1.11486463e+35,   2.23576899e+35,\n",
       "         4.46519755e+35,   8.92253796e+35,   1.78465417e+36,\n",
       "         3.56315220e+36,   7.11935544e+36,   1.43254584e+37,\n",
       "         2.87434474e+37,   5.74606206e+37,   1.14638517e+38,\n",
       "         2.29302863e+38,   4.58770700e+38,   9.11583025e+38,\n",
       "         1.81771345e+39,   3.66824681e+39,   7.39984153e+39,\n",
       "         1.47922438e+40,   2.95429993e+40,   5.91423252e+40,\n",
       "         1.18118537e+41,   2.36291258e+41,   4.72733505e+41,\n",
       "         9.42826742e+41,   1.88432086e+42,   3.76871685e+42,\n",
       "         7.55935599e+42,   1.51442940e+43,   3.02805860e+43,\n",
       "         6.05159826e+43,   1.21260360e+44,   2.41909563e+44,\n",
       "         4.83084641e+44,   9.67405026e+44,   1.93842873e+45,\n",
       "         3.87695826e+45,   7.72886849e+45,   1.54486628e+46,\n",
       "         3.09347346e+46,   6.22414964e+46,   1.25171664e+47,\n",
       "         2.50102379e+47,   5.01978789e+47,   1.00382748e+48,\n",
       "         2.01043003e+48,   4.01747793e+48,   8.06036411e+48,\n",
       "         1.60908533e+49,   3.24366020e+49,   6.53195709e+49,\n",
       "         1.31013014e+50,   2.61939346e+50,   5.25053290e+50,\n",
       "         1.04886784e+51,   2.08033343e+51,   4.18601198e+51,\n",
       "         8.39211203e+51,   1.67002799e+52,   3.36657855e+52,\n",
       "         6.73013583e+52,   1.34589824e+53,   2.69455854e+53,\n",
       "         5.40585642e+53,   1.08359464e+54,   2.16294114e+54,\n",
       "         4.34604952e+54,   8.66680641e+54,   1.73890919e+55,\n",
       "         3.48866395e+55,   6.98529325e+55,   1.39480074e+56,\n",
       "         2.79360520e+56,   5.61800213e+56,   1.12400807e+57,\n",
       "         2.24713690e+57,   4.51107516e+57,   9.00613906e+57,\n",
       "         1.80608564e+58,   3.62987836e+58,   7.30336266e+58,\n",
       "         1.46335715e+59,   2.93788240e+59,   5.83015352e+59,\n",
       "         1.16942834e+60,   2.34395620e+60,   4.68759310e+60,\n",
       "         9.34584096e+60,   1.86588673e+61,   3.73437385e+61,\n",
       "         7.44556756e+61,   1.49604063e+62,   2.99644086e+62,\n",
       "         6.06195442e+62,   1.22504885e+63,   2.45743354e+63,\n",
       "         4.90308005e+63,   9.86763926e+63,   1.98511072e+64,\n",
       "         3.95736146e+64,   7.94152114e+64,   1.58576571e+65,\n",
       "         3.16736712e+65,   6.34090853e+65,   1.26267914e+66,\n",
       "         2.53744476e+66,   5.10673334e+66,   1.02361836e+67,\n",
       "         2.06068841e+67,   4.11574472e+67,   8.20345483e+67,\n",
       "         1.65106055e+68,   3.30710128e+68,   6.66950254e+68,\n",
       "         1.31603226e+69,   2.63894695e+69,   5.03553382e+69,\n",
       "         1.00577884e+70,   2.04284510e+70,   4.08998978e+70,\n",
       "         8.27716837e+70,   1.63375263e+71,   3.28517424e+71,\n",
       "         6.66764405e+71,   1.31459798e+72,   2.62842649e+72,\n",
       "         5.25457550e+72,   1.05638709e+73,   2.10468086e+73,\n",
       "         4.17744707e+73,   8.37927421e+73,   1.67877575e+74,\n",
       "         3.27217059e+74,   6.70293227e+74,   1.34248533e+75,\n",
       "         2.63103170e+75,   5.31897814e+75,   1.04090275e+76,\n",
       "         2.11476267e+76,   4.27134993e+76,   8.60605312e+76,\n",
       "         1.71696266e+77,   3.41668956e+77,   6.77133456e+77,\n",
       "         1.36978605e+78,   2.71997131e+78,   5.38829460e+78,\n",
       "         1.09037102e+79,   2.18016874e+79])"
      ]
     },
     "execution_count": 66,
     "metadata": {},
     "output_type": "execute_result"
    }
   ],
   "source": [
    "dvals[1]"
   ]
  },
  {
   "cell_type": "code",
   "execution_count": null,
   "metadata": {
    "collapsed": true
   },
   "outputs": [],
   "source": [
    "dvals[0]"
   ]
  },
  {
   "cell_type": "code",
   "execution_count": null,
   "metadata": {
    "collapsed": true
   },
   "outputs": [],
   "source": []
  },
  {
   "cell_type": "code",
   "execution_count": null,
   "metadata": {
    "collapsed": true
   },
   "outputs": [],
   "source": []
  }
 ],
 "metadata": {
  "kernelspec": {
   "display_name": "Python 3",
   "language": "python",
   "name": "python3"
  },
  "language_info": {
   "codemirror_mode": {
    "name": "ipython",
    "version": 3
   },
   "file_extension": ".py",
   "mimetype": "text/x-python",
   "name": "python",
   "nbconvert_exporter": "python",
   "pygments_lexer": "ipython3",
   "version": "3.6.3"
  }
 },
 "nbformat": 4,
 "nbformat_minor": 2
}
