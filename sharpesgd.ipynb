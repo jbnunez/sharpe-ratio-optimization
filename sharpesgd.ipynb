{
 "cells": [
  {
   "cell_type": "code",
   "execution_count": 2,
   "metadata": {
    "collapsed": true
   },
   "outputs": [],
   "source": [
    "import quandl\n",
    "import datetime\n",
    "from datetime import date\n",
    "import pandas as pd\n",
    "import numpy as np\n",
    "quandl.ApiConfig.api_key = \"63gdVnc_-LzW9XyB1Ajk\""
   ]
  },
  {
   "cell_type": "markdown",
   "metadata": {},
   "source": [
    "List of potential stocks to invest in"
   ]
  },
  {
   "cell_type": "code",
   "execution_count": 3,
   "metadata": {
    "collapsed": true
   },
   "outputs": [],
   "source": [
    "stocksymlist = [\"MSFT\", \"AXP\", \"BA\", \"CAT\", \"CVX\", \"CSCO\", \"KO\", \"DIS\",  \"XOM\", \"GE\", \"GS\",\n",
    "                \"HD\", \"IBM\", \"JNJ\", \"JPM\", \"MCD\", \"MRK\", \"NKE\", \"PFE\", \"PG\", \"UTX\", \"UNH\", \"VZ\",\n",
    "                \"V\", \"WMT\"]"
   ]
  },
  {
   "cell_type": "code",
   "execution_count": 4,
   "metadata": {},
   "outputs": [
    {
     "data": {
      "text/plain": [
       "'2017-03-07'"
      ]
     },
     "execution_count": 4,
     "metadata": {},
     "output_type": "execute_result"
    }
   ],
   "source": [
    "years_back = 1\n",
    "tnow = date.today()\n",
    "enddate = tnow.isoformat()\n",
    "startyear = tnow.year - years_back\n",
    "sd = tnow.replace(year=startyear)\n",
    "#startmonth = tnow.month - 1\n",
    "#startday = tnow.day + 1\n",
    "#sd = tnow.replace(day=startday, month=startmonth)\n",
    "startdate = sd.isoformat()\n",
    "startdate"
   ]
  },
  {
   "cell_type": "markdown",
   "metadata": {},
   "source": [
    "Get the asset data from quandl"
   ]
  },
  {
   "cell_type": "code",
   "execution_count": 5,
   "metadata": {
    "collapsed": true
   },
   "outputs": [],
   "source": [
    "assets = []\n",
    "for stocksym in stocksymlist:\n",
    "    stocksymlo = stocksym.lower()\n",
    "    stocksymup = stocksym.upper()\n",
    "    stocksym = stocksymlo\n",
    "    quandlstock = str(\"WIKI/\")\n",
    "    quandlstock = quandlstock + stocksymup\n",
    "    stock = quandl.get(quandlstock, start_date=startdate, end_date=enddate)\n",
    "    assets.append(stock)\n"
   ]
  },
  {
   "cell_type": "markdown",
   "metadata": {},
   "source": [
    "Add continuous growth rates to stock info and calculate risk level (sigma) and return rate (drift).  Also, create a list of cgrs, which we'll use to calculate covariance"
   ]
  },
  {
   "cell_type": "code",
   "execution_count": 6,
   "metadata": {
    "collapsed": true
   },
   "outputs": [],
   "source": [
    "sigmas = []\n",
    "drifts = []\n",
    "cgrs = []\n",
    "for stock in assets:\n",
    "    price = np.array(stock.Close)\n",
    "    pricep1 = np.roll(price,1)\n",
    "    lnratio = price/pricep1\n",
    "    cgr = np.log(lnratio)\n",
    "    cgr[0]=999.99\n",
    "    stock['cgr'] = cgr\n",
    "    stock = stock[['Close','Volume','cgr']]\n",
    "    \n",
    "    sigma = np.std(cgr[1:])\n",
    "    sigmas.append(sigma)\n",
    "    drift = np.mean(cgr[1:])\n",
    "    drifts.append(drift)\n",
    "    cgrs.append(cgr[1:])"
   ]
  },
  {
   "cell_type": "markdown",
   "metadata": {
    "collapsed": true
   },
   "source": [
    "Put cgrs in numpy array and calculate covariances"
   ]
  },
  {
   "cell_type": "code",
   "execution_count": 26,
   "metadata": {},
   "outputs": [
    {
     "data": {
      "text/plain": [
       "array([[  1.24528411e-04,   5.55610840e-05,   5.46685964e-05,\n",
       "          5.85733437e-05,   2.40475616e-05,   6.32617719e-05,\n",
       "          2.40142467e-05,   1.97273515e-05,   2.69307486e-05,\n",
       "          2.40792818e-05,   5.28693508e-05,   4.23960063e-05,\n",
       "          3.52379053e-05,   3.72890710e-05,   4.31348447e-05,\n",
       "          4.51245149e-05,   9.71772608e-07,   3.69572519e-05,\n",
       "          3.55743623e-05,   1.80350660e-05,   4.01127285e-05,\n",
       "          5.02562518e-05,   2.78073982e-05,   7.25491783e-05,\n",
       "          1.97342100e-05],\n",
       "       [  5.55610840e-05,   1.11423380e-04,   5.57984658e-05,\n",
       "          6.86900258e-05,   4.83164694e-05,   6.17461622e-05,\n",
       "          2.18195171e-05,   4.59079089e-05,   3.94041189e-05,\n",
       "          5.23612108e-05,   8.68457255e-05,   5.56357823e-05,\n",
       "          5.27556919e-05,   4.00870365e-05,   7.93886049e-05,\n",
       "          3.51580946e-05,   2.71884756e-05,   5.12979193e-05,\n",
       "          4.56783836e-05,   2.41788715e-05,   4.28814024e-05,\n",
       "          5.60268126e-05,   4.10898402e-05,   5.69954659e-05,\n",
       "          2.52356745e-05],\n",
       "       [  5.46685964e-05,   5.57984658e-05,   1.89683415e-04,\n",
       "          6.60522452e-05,   4.56688493e-05,   5.46002391e-05,\n",
       "          2.92598918e-05,   4.79612945e-05,   3.27332060e-05,\n",
       "          5.18791629e-05,   6.71774070e-05,   5.00713221e-05,\n",
       "          4.31168379e-05,   3.13405480e-05,   5.46777062e-05,\n",
       "          3.07019654e-05,   2.64236116e-05,   2.56259295e-05,\n",
       "          3.95296948e-05,   2.88049682e-05,   6.69983495e-05,\n",
       "          4.83799725e-05,   5.00992667e-05,   6.06408810e-05,\n",
       "          2.72849951e-05],\n",
       "       [  5.85733437e-05,   6.86900258e-05,   6.60522452e-05,\n",
       "          1.96813171e-04,   7.07165079e-05,   6.31390004e-05,\n",
       "          3.06423837e-05,   3.19619088e-05,   5.06601471e-05,\n",
       "          4.55865041e-05,   8.20391911e-05,   6.53963897e-05,\n",
       "          3.92323397e-05,   3.11821870e-05,   7.28191176e-05,\n",
       "          6.37926453e-05,   2.43722027e-05,   4.63881973e-05,\n",
       "          3.41812162e-05,   4.02399467e-05,   4.88123914e-05,\n",
       "          4.24199104e-05,   4.23422325e-05,   5.49247456e-05,\n",
       "          3.71007772e-05],\n",
       "       [  2.40475616e-05,   4.83164694e-05,   4.56688493e-05,\n",
       "          7.07165079e-05,   1.25379859e-04,   3.68307721e-05,\n",
       "          2.34991735e-05,   4.38463624e-05,   6.98195309e-05,\n",
       "          5.82987358e-05,   6.48818178e-05,   5.26741354e-05,\n",
       "          3.47447791e-05,   3.42812913e-05,   5.86247843e-05,\n",
       "          2.42127972e-05,   3.77632690e-05,   2.90295236e-05,\n",
       "          3.63209727e-05,   2.88500786e-05,   2.79373487e-05,\n",
       "          3.36390560e-05,   4.83557034e-05,   3.63737456e-05,\n",
       "          1.80726666e-05],\n",
       "       [  6.32617719e-05,   6.17461622e-05,   5.46002391e-05,\n",
       "          6.31390004e-05,   3.68307721e-05,   1.45078955e-04,\n",
       "          2.53735229e-05,   4.51423310e-05,   3.38732779e-05,\n",
       "          4.48372317e-05,   6.38380966e-05,   5.77833267e-05,\n",
       "          4.91665584e-05,   4.10131426e-05,   6.06047319e-05,\n",
       "          3.06122288e-05,   3.36919181e-05,   5.04664260e-05,\n",
       "          5.20576607e-05,   2.70518219e-05,   4.38183772e-05,\n",
       "          4.36854100e-05,   4.28646130e-05,   5.73666731e-05,\n",
       "          4.57200651e-05],\n",
       "       [  2.40142467e-05,   2.18195171e-05,   2.92598918e-05,\n",
       "          3.06423837e-05,   2.34991735e-05,   2.53735229e-05,\n",
       "          4.92665658e-05,   1.89604932e-05,   2.45116281e-05,\n",
       "          1.55477819e-05,   1.59671419e-05,   2.93537321e-05,\n",
       "          2.23142790e-05,   2.52380621e-05,   1.35787354e-05,\n",
       "          2.19304952e-05,   2.58769477e-05,   1.69133194e-05,\n",
       "          2.45922460e-05,   3.02856931e-05,   1.67613759e-05,\n",
       "          2.50969277e-05,   2.88733372e-05,   2.34978516e-05,\n",
       "          3.41435574e-05],\n",
       "       [  1.97273515e-05,   4.59079089e-05,   4.79612945e-05,\n",
       "          3.19619088e-05,   4.38463624e-05,   4.51423310e-05,\n",
       "          1.89604932e-05,   1.29315507e-04,   3.87972250e-05,\n",
       "          6.28429830e-05,   4.66576480e-05,   3.85143231e-05,\n",
       "          3.54873353e-05,   2.26263491e-05,   4.64085168e-05,\n",
       "          1.21810315e-05,   3.20728892e-05,   5.15085191e-05,\n",
       "          4.37823438e-05,   2.26283567e-05,   2.14652388e-05,\n",
       "          3.00100800e-05,   5.68768353e-05,   1.54477459e-05,\n",
       "          2.89879305e-05],\n",
       "       [  2.69307486e-05,   3.94041189e-05,   3.27332060e-05,\n",
       "          5.06601471e-05,   6.98195309e-05,   3.38732779e-05,\n",
       "          2.45116281e-05,   3.87972250e-05,   8.26782273e-05,\n",
       "          3.68352816e-05,   4.73539032e-05,   3.69906866e-05,\n",
       "          3.38702703e-05,   2.97058643e-05,   4.20423320e-05,\n",
       "          2.22083206e-05,   2.96389638e-05,   2.03397544e-05,\n",
       "          3.25478174e-05,   2.44141320e-05,   2.54875324e-05,\n",
       "          3.49588419e-05,   3.79119424e-05,   2.97151269e-05,\n",
       "          2.21074164e-05],\n",
       "       [  2.40792818e-05,   5.23612108e-05,   5.18791629e-05,\n",
       "          4.55865041e-05,   5.82987358e-05,   4.48372317e-05,\n",
       "          1.55477819e-05,   6.28429830e-05,   3.68352816e-05,\n",
       "          2.36560491e-04,   6.71622817e-05,   3.46810820e-05,\n",
       "          5.32161937e-05,   2.05148478e-05,   5.76918347e-05,\n",
       "          1.19742050e-05,   4.39980035e-05,   4.18357939e-05,\n",
       "          4.27132074e-05,   1.22382915e-05,   3.42252029e-05,\n",
       "          3.32964888e-05,   6.31095530e-05,   2.39007834e-05,\n",
       "          2.06519607e-05],\n",
       "       [  5.28693508e-05,   8.68457255e-05,   6.71774070e-05,\n",
       "          8.20391911e-05,   6.48818178e-05,   6.38380966e-05,\n",
       "          1.59671419e-05,   4.66576480e-05,   4.73539032e-05,\n",
       "          6.71622817e-05,   1.85621090e-04,   6.00685758e-05,\n",
       "          5.36949511e-05,   3.70597510e-05,   1.16551894e-04,\n",
       "          2.85794917e-05,   4.20841729e-05,   4.59002209e-05,\n",
       "          4.23123980e-05,   1.91590819e-05,   4.86680895e-05,\n",
       "          4.43223520e-05,   5.19973693e-05,   5.63049823e-05,\n",
       "          2.99466859e-05],\n",
       "       [  4.23960063e-05,   5.56357823e-05,   5.00713221e-05,\n",
       "          6.53963897e-05,   5.26741354e-05,   5.77833267e-05,\n",
       "          2.93537321e-05,   3.85143231e-05,   3.69906866e-05,\n",
       "          3.46810820e-05,   6.00685758e-05,   1.14292915e-04,\n",
       "          3.71338958e-05,   3.17526536e-05,   5.17683029e-05,\n",
       "          3.57278398e-05,   2.78881224e-05,   4.71148384e-05,\n",
       "          4.06321003e-05,   3.13927090e-05,   3.30903006e-05,\n",
       "          4.71814384e-05,   4.32172709e-05,   4.44607051e-05,\n",
       "          4.28889690e-05],\n",
       "       [  3.52379053e-05,   5.27556919e-05,   4.31168379e-05,\n",
       "          3.92323397e-05,   3.47447791e-05,   4.91665584e-05,\n",
       "          2.23142790e-05,   3.54873353e-05,   3.38702703e-05,\n",
       "          5.32161937e-05,   5.36949511e-05,   3.71338958e-05,\n",
       "          1.31102379e-04,   2.68617442e-05,   4.85033971e-05,\n",
       "          2.03726899e-05,   2.86254396e-05,   2.47527601e-05,\n",
       "          4.04941347e-05,   2.04349128e-05,   3.20692309e-05,\n",
       "          3.68481843e-05,   3.74103064e-05,   3.58308016e-05,\n",
       "          3.20077870e-05],\n",
       "       [  3.72890710e-05,   4.00870365e-05,   3.13405480e-05,\n",
       "          3.11821870e-05,   3.42812913e-05,   4.10131426e-05,\n",
       "          2.52380621e-05,   2.26263491e-05,   2.97058643e-05,\n",
       "          2.05148478e-05,   3.70597510e-05,   3.17526536e-05,\n",
       "          2.68617442e-05,   8.80635223e-05,   3.11827342e-05,\n",
       "          2.68084513e-05,   3.83375663e-05,   3.08167430e-05,\n",
       "          4.67290124e-05,   3.17748013e-05,   2.97149497e-05,\n",
       "          4.76013643e-05,   3.29111626e-05,   3.65718796e-05,\n",
       "          3.02434485e-05],\n",
       "       [  4.31348447e-05,   7.93886049e-05,   5.46777062e-05,\n",
       "          7.28191176e-05,   5.86247843e-05,   6.06047319e-05,\n",
       "          1.35787354e-05,   4.64085168e-05,   4.20423320e-05,\n",
       "          5.76918347e-05,   1.16551894e-04,   5.17683029e-05,\n",
       "          4.85033971e-05,   3.11827342e-05,   1.18549254e-04,\n",
       "          3.08853899e-05,   3.03944348e-05,   4.94898117e-05,\n",
       "          4.35078948e-05,   1.63386279e-05,   4.49187227e-05,\n",
       "          4.88677914e-05,   5.06449820e-05,   4.18100959e-05,\n",
       "          2.59871517e-05],\n",
       "       [  4.51245149e-05,   3.51580946e-05,   3.07019654e-05,\n",
       "          6.37926453e-05,   2.42127972e-05,   3.06122288e-05,\n",
       "          2.19304952e-05,   1.21810315e-05,   2.22083206e-05,\n",
       "          1.19742050e-05,   2.85794917e-05,   3.57278398e-05,\n",
       "          2.03726899e-05,   2.68084513e-05,   3.08853899e-05,\n",
       "          9.18540457e-05,   1.85401072e-05,   1.82767666e-05,\n",
       "          2.62713869e-05,   2.53799257e-05,   2.88747847e-05,\n",
       "          4.10011389e-05,   1.79460077e-05,   3.80088128e-05,\n",
       "          2.50636478e-05],\n",
       "       [  9.71772608e-07,   2.71884756e-05,   2.64236116e-05,\n",
       "          2.43722027e-05,   3.77632690e-05,   3.36919181e-05,\n",
       "          2.58769477e-05,   3.20728892e-05,   2.96389638e-05,\n",
       "          4.39980035e-05,   4.20841729e-05,   2.78881224e-05,\n",
       "          2.86254396e-05,   3.83375663e-05,   3.03944348e-05,\n",
       "          1.85401072e-05,   1.19917977e-04,   3.29416311e-05,\n",
       "          4.57192237e-05,   2.52690982e-05,   2.30970830e-05,\n",
       "          3.26074200e-05,   5.31440296e-05,   1.62628785e-05,\n",
       "          4.04058692e-05],\n",
       "       [  3.69572519e-05,   5.12979193e-05,   2.56259295e-05,\n",
       "          4.63881973e-05,   2.90295236e-05,   5.04664260e-05,\n",
       "          1.69133194e-05,   5.15085191e-05,   2.03397544e-05,\n",
       "          4.18357939e-05,   4.59002209e-05,   4.71148384e-05,\n",
       "          2.47527601e-05,   3.08167430e-05,   4.94898117e-05,\n",
       "          1.82767666e-05,   3.29416311e-05,   2.25836954e-04,\n",
       "          3.42099677e-05,   1.88416666e-05,   3.05037040e-05,\n",
       "          4.58736089e-05,   4.75625578e-05,   3.48912799e-05,\n",
       "          3.74426595e-05],\n",
       "       [  3.55743623e-05,   4.56783836e-05,   3.95296948e-05,\n",
       "          3.41812162e-05,   3.63209727e-05,   5.20576607e-05,\n",
       "          2.45922460e-05,   4.37823438e-05,   3.25478174e-05,\n",
       "          4.27132074e-05,   4.23123980e-05,   4.06321003e-05,\n",
       "          4.04941347e-05,   4.67290124e-05,   4.35078948e-05,\n",
       "          2.62713869e-05,   4.57192237e-05,   3.42099677e-05,\n",
       "          8.52253791e-05,   2.19776337e-05,   3.64205475e-05,\n",
       "          5.10994725e-05,   4.27611544e-05,   3.35367139e-05,\n",
       "          3.84983945e-05],\n",
       "       [  1.80350660e-05,   2.41788715e-05,   2.88049682e-05,\n",
       "          4.02399467e-05,   2.88500786e-05,   2.70518219e-05,\n",
       "          3.02856931e-05,   2.26283567e-05,   2.44141320e-05,\n",
       "          1.22382915e-05,   1.91590819e-05,   3.13927090e-05,\n",
       "          2.04349128e-05,   3.17748013e-05,   1.63386279e-05,\n",
       "          2.53799257e-05,   2.52690982e-05,   1.88416666e-05,\n",
       "          2.19776337e-05,   6.17604454e-05,   1.36019441e-05,\n",
       "          1.89954996e-05,   3.28521809e-05,   2.11965815e-05,\n",
       "          3.10825312e-05],\n",
       "       [  4.01127285e-05,   4.28814024e-05,   6.69983495e-05,\n",
       "          4.88123914e-05,   2.79373487e-05,   4.38183772e-05,\n",
       "          1.67613759e-05,   2.14652388e-05,   2.54875324e-05,\n",
       "          3.42252029e-05,   4.86680895e-05,   3.30903006e-05,\n",
       "          3.20692309e-05,   2.97149497e-05,   4.49187227e-05,\n",
       "          2.88747847e-05,   2.30970830e-05,   3.05037040e-05,\n",
       "          3.64205475e-05,   1.36019441e-05,   1.09733805e-04,\n",
       "          3.63746357e-05,   2.80714815e-05,   4.36403497e-05,\n",
       "          2.89127211e-05],\n",
       "       [  5.02562518e-05,   5.60268126e-05,   4.83799725e-05,\n",
       "          4.24199104e-05,   3.36390560e-05,   4.36854100e-05,\n",
       "          2.50969277e-05,   3.00100800e-05,   3.49588419e-05,\n",
       "          3.32964888e-05,   4.43223520e-05,   4.71814384e-05,\n",
       "          3.68481843e-05,   4.76013643e-05,   4.88677914e-05,\n",
       "          4.10011389e-05,   3.26074200e-05,   4.58736089e-05,\n",
       "          5.10994725e-05,   1.89954996e-05,   3.63746357e-05,\n",
       "          1.19058161e-04,   3.57884343e-05,   4.72412018e-05,\n",
       "          4.38941938e-05],\n",
       "       [  2.78073982e-05,   4.10898402e-05,   5.00992667e-05,\n",
       "          4.23422325e-05,   4.83557034e-05,   4.28646130e-05,\n",
       "          2.88733372e-05,   5.68768353e-05,   3.79119424e-05,\n",
       "          6.31095530e-05,   5.19973693e-05,   4.32172709e-05,\n",
       "          3.74103064e-05,   3.29111626e-05,   5.06449820e-05,\n",
       "          1.79460077e-05,   5.31440296e-05,   4.75625578e-05,\n",
       "          4.27611544e-05,   3.28521809e-05,   2.80714815e-05,\n",
       "          3.57884343e-05,   1.38677225e-04,   2.11514087e-05,\n",
       "          4.61191073e-05],\n",
       "       [  7.25491783e-05,   5.69954659e-05,   6.06408810e-05,\n",
       "          5.49247456e-05,   3.63737456e-05,   5.73666731e-05,\n",
       "          2.34978516e-05,   1.54477459e-05,   2.97151269e-05,\n",
       "          2.39007834e-05,   5.63049823e-05,   4.44607051e-05,\n",
       "          3.58308016e-05,   3.65718796e-05,   4.18100959e-05,\n",
       "          3.80088128e-05,   1.62628785e-05,   3.48912799e-05,\n",
       "          3.35367139e-05,   2.11965815e-05,   4.36403497e-05,\n",
       "          4.72412018e-05,   2.11514087e-05,   9.56406140e-05,\n",
       "          2.74437026e-05],\n",
       "       [  1.97342100e-05,   2.52356745e-05,   2.72849951e-05,\n",
       "          3.71007772e-05,   1.80726666e-05,   4.57200651e-05,\n",
       "          3.41435574e-05,   2.89879305e-05,   2.21074164e-05,\n",
       "          2.06519607e-05,   2.99466859e-05,   4.28889690e-05,\n",
       "          3.20077870e-05,   3.02434485e-05,   2.59871517e-05,\n",
       "          2.50636478e-05,   4.04058692e-05,   3.74426595e-05,\n",
       "          3.84983945e-05,   3.10825312e-05,   2.89127211e-05,\n",
       "          4.38941938e-05,   4.61191073e-05,   2.74437026e-05,\n",
       "          1.90826874e-04]])"
      ]
     },
     "execution_count": 26,
     "metadata": {},
     "output_type": "execute_result"
    }
   ],
   "source": [
    "cgrs = np.array(cgrs)\n",
    "covmat = np.cov(cgrs)\n",
    "covmat"
   ]
  },
  {
   "cell_type": "markdown",
   "metadata": {},
   "source": [
    "Function to normalize weights:"
   ]
  },
  {
   "cell_type": "code",
   "execution_count": 8,
   "metadata": {
    "collapsed": true
   },
   "outputs": [],
   "source": [
    "def normalize_weights(weights):\n",
    "    total = np.sum(weights)\n",
    "    return weights/total"
   ]
  },
  {
   "cell_type": "markdown",
   "metadata": {},
   "source": [
    "Function to calculate risk for a portfolio"
   ]
  },
  {
   "cell_type": "code",
   "execution_count": 9,
   "metadata": {
    "collapsed": true
   },
   "outputs": [],
   "source": [
    "def risk(weights):\n",
    "    sig_sq = float(0)\n",
    "    for i in range(len(weights)):\n",
    "        for j in range(len(weights)):\n",
    "            sig_sq += weights[i]*weights[j]*covmat[i][j]\n",
    "    return sig_sq**0.5\n",
    "            "
   ]
  },
  {
   "cell_type": "markdown",
   "metadata": {},
   "source": [
    "Function to calculate return of portfolio"
   ]
  },
  {
   "cell_type": "code",
   "execution_count": 10,
   "metadata": {
    "collapsed": true
   },
   "outputs": [],
   "source": [
    "def return_rate(weights):\n",
    "    rate = float(0)\n",
    "    for i in range(len(weights)):\n",
    "        rate += weights[i]*drifts[i]\n",
    "    return rate"
   ]
  },
  {
   "cell_type": "markdown",
   "metadata": {},
   "source": [
    "Function to generate target distribution samples"
   ]
  },
  {
   "cell_type": "code",
   "execution_count": 11,
   "metadata": {
    "collapsed": true
   },
   "outputs": [],
   "source": [
    "def make_samples(num_samples, rate, stddev):\n",
    "    return np.random.normal(loc=rate, scale=stddev, size=num_samples)\n"
   ]
  },
  {
   "cell_type": "markdown",
   "metadata": {},
   "source": [
    "KL Divergence function.  For two normal distributions with std devs $\\sigma_1$ and $\\sigma_2$ and means $\\mu_1$ and $\\mu_2$, the KL Divergence is\n",
    "\n",
    "$KL = \\log\\frac{\\sigma_2}{\\sigma_1} + \\frac{\\sigma_1^2 + (\\mu_1 - \\mu_2)^2}{2\\sigma_2^2} - \\frac{1}{2}$\n",
    "\n",
    "In our function the first term will be called $a$ and the second term $b$"
   ]
  },
  {
   "cell_type": "code",
   "execution_count": 12,
   "metadata": {
    "collapsed": true
   },
   "outputs": [],
   "source": [
    "def KL(p_rate, p_sig, q_rate, q_sig):\n",
    "    a = np.log(q_sig/p_sig)\n",
    "    b = (p_sig**2 + (p_rate-q_rate)**2)/(2*q_sig**2)\n",
    "    return a + b - 0.5\n",
    "    "
   ]
  },
  {
   "cell_type": "markdown",
   "metadata": {},
   "source": [
    "We want to find an upper limit on how good our sharpe ratio can be.  The best return we can have is simply the max of the returns of the individual assets.  The lowest risk is somewhat more difficult to find.  The risk is trickier to find, since the risk is lowered by diversification.  However, an evenly distributed portfolio is a good guess for the minimal risk, since that at least minimizes the $\\pi_i \\pi_j$ term in the summation."
   ]
  },
  {
   "cell_type": "code",
   "execution_count": 13,
   "metadata": {
    "collapsed": true
   },
   "outputs": [],
   "source": [
    "target_rate = max(drifts)\n",
    "safe_weights = np.array([1.0/len(assets) for i in range(len(assets))])*4\n",
    "target_risk = risk(safe_weights)/4"
   ]
  },
  {
   "cell_type": "markdown",
   "metadata": {},
   "source": [
    "Batch function to give us several predictions at once, we calculate the loss for all of them before updating the weight. Note that batch size is set in this function."
   ]
  },
  {
   "cell_type": "code",
   "execution_count": 14,
   "metadata": {
    "collapsed": true
   },
   "outputs": [],
   "source": [
    "def next_batch():\n",
    "    batchsize = 100\n",
    "    xbatch = []\n",
    "    #ybatch = make_samples(batchsize, target_rate, target_risk)\n",
    "    for i in range(len(assets)):\n",
    "        xbatch.append(make_samples(batchsize, drifts[i], sigmas[i]))\n",
    "    xbatch = np.column_stack(xbatch)\n",
    "    #return (xbatch, ybatch)\n",
    "    return xbatch"
   ]
  },
  {
   "cell_type": "markdown",
   "metadata": {},
   "source": [
    "Function to take xbatches and weights and convert to the return of the corresponding portfolio.  Only used in non-rigourous version that allows for shorting"
   ]
  },
  {
   "cell_type": "code",
   "execution_count": 15,
   "metadata": {
    "collapsed": true
   },
   "outputs": [],
   "source": [
    "def batch_to_returns(xbatch, weights):\n",
    "    returns = []\n",
    "    for x in xbatch:\n",
    "        returns.append(np.dot(x, weights))\n",
    "    return np.array(returns)"
   ]
  },
  {
   "cell_type": "markdown",
   "metadata": {},
   "source": [
    "Stochastic gradient descent\n",
    "\n",
    "Our input samples will be randomly drawn from the distributions of each of the assets and our output samples will be drawn from our unrealistically optimistic distribution.  \n",
    "\n",
    "Since our target is unattainable, our prediction will never be that close, so we'll use a variable learning rate to help our weights converge.\n",
    "\n",
    "Since we generate our dataset as we go, we'll just do a set number of batches.\n",
    "\n",
    "We'll use KL divergence as our loss, and our target will always be the same, so we never need to take samples from it.\n",
    "\n",
    "This version of the function implements an option which allows shorting of stocks.  However, this means that the minimimum converged to is outside of $S$, so we cannot guarantee its optimality, but it is an interesting result nonetheless.  I wrote this bit of code mostly because it's interesting, but does not represent any rigorous solution.\n",
    "\n",
    "To see the portfolio output by this algorithm, skip the next few cells up until the markdown cell that says \"print out the optimal set of investments\""
   ]
  },
  {
   "cell_type": "code",
   "execution_count": 16,
   "metadata": {},
   "outputs": [
    {
     "name": "stdout",
     "output_type": "stream",
     "text": [
      "0.533408139634\n",
      "0.0127346000573\n",
      "0.00557472597477\n",
      "0.0158480767258\n",
      "0.0690567650654\n",
      "0.0142093975046\n",
      "0.0250171136433\n",
      "0.028994095774\n",
      "0.00394454210459\n",
      "0.101009788591\n"
     ]
    },
    {
     "data": {
      "text/plain": [
       "(array([ 0.11745054,  0.05626345,  0.28859727,  0.19507545,  0.03158472,\n",
       "         0.08202598,  0.02317872, -0.04442596, -0.02129242, -0.25333845,\n",
       "         0.04387625,  0.11090421, -0.04641468,  0.00768412,  0.06799279,\n",
       "         0.07256814, -0.04735172,  0.04131003,  0.04765916, -0.04982041,\n",
       "         0.05261124,  0.09888999, -0.04954914,  0.08849736,  0.08602337]),\n",
       " 0.0062704303881550016)"
      ]
     },
     "execution_count": 16,
     "metadata": {},
     "output_type": "execute_result"
    }
   ],
   "source": [
    "def optimize_sharpe_with_shorts(batches, learn_rate):\n",
    "    weights = np.random.normal(loc=0.5, scale=0.1, size=len(assets))\n",
    "    weights = weights - np.min(weights)\n",
    "    weights = weights/np.sum(weights)\n",
    "    last_error = float(\"inf\")\n",
    "    for batch in range(batches):\n",
    "        #get a new set of samples\n",
    "        xbatch = next_batch()\n",
    "        \n",
    "        #normalize the weights\n",
    "        norm_weights = weights/np.sum(weights)\n",
    "        \n",
    "        #take stddev and mean of predictions\n",
    "        predictions = batch_to_returns(xbatch, norm_weights)\n",
    "        pred_sig = np.std(predictions)\n",
    "        pred_rate = np.mean(predictions)\n",
    "        \n",
    "        #compare to target using KL div\n",
    "        error = KL(pred_rate, pred_sig, target_rate, target_risk)\n",
    "        \n",
    "        \n",
    "        #get mean of each\n",
    "        means = xbatch.mean(0)\n",
    "        \n",
    "        #update weights\n",
    "        weights += -error*means*learn_rate\n",
    "\n",
    "        #change learning rate\n",
    "        if error/last_error > 1.04:\n",
    "            learn_rate *= 0.7\n",
    "        elif error<last_error:\n",
    "            learn_rate *= 1.05\n",
    "        if batch%1000 == 0:\n",
    "            print(error)\n",
    "  \n",
    "    norm_weights = weights/np.sum(weights)\n",
    "\n",
    "    return (norm_weights, error)\n",
    "\n",
    "(proportions, error) = optimize_sharpe_with_shorts(10000, 0.001)\n",
    "(proportions, error)"
   ]
  },
  {
   "cell_type": "markdown",
   "metadata": {},
   "source": [
    "Here is the formula we calculated for the partial of the divergence with respect to a weight\n",
    "\n",
    "$\\frac{\\partial KL(p,q)}{\\partial \\pi_i} =  - \\frac{\\sum_{j=1}^n \\pi_j \\text{Cov} (R_i, R_j)}{2\\sum_{i,j=1}^n \\pi_i \\pi_j \\text{Cov} (R_i, R_j)} \n",
    " + \\frac{\\sum_{j=1}^n \\pi_j \\text{Cov} (R_i, R_j)}{2\\sigma_2^2} + \\frac{r_j (\\sum_{j=1}^n \\pi_j r_j - \\mu_2)}{\\sigma_2^2}$"
   ]
  },
  {
   "cell_type": "markdown",
   "metadata": {},
   "source": [
    "Now here are some functions to help find the gradient of the loss function"
   ]
  },
  {
   "cell_type": "code",
   "execution_count": 17,
   "metadata": {
    "collapsed": true
   },
   "outputs": [],
   "source": [
    "def weighted_cov_sum(i, weights):\n",
    "    wsum = float(0)\n",
    "    for j in range(len(weights)):\n",
    "        if j==i:\n",
    "            wsum += 2*weights[i]*covmat[i][i]\n",
    "        else:\n",
    "            wsum += weights[j]*covmat[i][j]\n",
    "    return wsum"
   ]
  },
  {
   "cell_type": "code",
   "execution_count": 18,
   "metadata": {
    "collapsed": true
   },
   "outputs": [],
   "source": [
    "def gradient(weights):\n",
    "    sig1 = risk(weights)\n",
    "    mu1 = return_rate(weights)\n",
    "    grad = np.zeros(len(weights))\n",
    "    for i in range(len(grad)):\n",
    "        wsum = weighted_cov_sum(i, weights)\n",
    "        grad[i] = (wsum/(2*(target_risk**2))) + ((drifts[i]*mu1)/(target_risk**2)) - (wsum/(2*(sig1**2)))\n",
    "    return grad"
   ]
  },
  {
   "cell_type": "markdown",
   "metadata": {},
   "source": [
    "Here is the bit of code that does the gradient descent."
   ]
  },
  {
   "cell_type": "code",
   "execution_count": 19,
   "metadata": {},
   "outputs": [
    {
     "name": "stdout",
     "output_type": "stream",
     "text": [
      "0.0665924056286\n",
      "0.0496012387644\n",
      "0.0496012387644\n",
      "0.0496012387644\n",
      "0.0496012387644\n",
      "0.0496012387644\n",
      "0.0496012387644\n",
      "0.0496012387644\n",
      "0.0496012387644\n",
      "0.0496012387644\n"
     ]
    },
    {
     "data": {
      "text/plain": [
       "(array([ 0.05309086,  0.05216694,  0.07933059,  0.07540222,  0.03583917,\n",
       "         0.05614521,  0.01931915,  0.02769312,  0.02437967,  0.00270538,\n",
       "         0.05588938,  0.04820473,  0.02596953,  0.02915392,  0.05396609,\n",
       "         0.03437528,  0.01628248,  0.04795217,  0.03395631,  0.01372702,\n",
       "         0.0397458 ,  0.04894376,  0.03356956,  0.04892027,  0.04327139]),\n",
       " 0.049601238764434563)"
      ]
     },
     "execution_count": 19,
     "metadata": {},
     "output_type": "execute_result"
    }
   ],
   "source": [
    "def optimize_sharpe(epochs, learn_rate):\n",
    "    #initialize and normalize weights\n",
    "    weights = np.random.normal(loc=0.5, scale=0.1, size=len(assets))\n",
    "    weights = weights/np.sum(weights)\n",
    "    last_error = float(\"inf\")\n",
    "    for epoch in range(epochs):\n",
    "        #get a new set of samples\n",
    "        xbatch = next_batch()\n",
    "        \n",
    "        #normalize the weights\n",
    "        if np.min(weights)<0:\n",
    "            weights = weights - np.min(weights)\n",
    "        weights = weights/np.sum(weights)\n",
    "        \n",
    "        #take stddev and mean of predictions\n",
    "        pred_sig = risk(weights)\n",
    "        pred_rate = return_rate(weights)\n",
    "        \n",
    "        #compare to target using KL div\n",
    "        error = KL(pred_rate, pred_sig, target_rate, target_risk)\n",
    "        \n",
    "        #get gradient for these weights\n",
    "        grad = gradient(weights)\n",
    "        \n",
    "        #update weights\n",
    "        weights += error*grad*learn_rate\n",
    "        \n",
    "        #change learning rate\n",
    "        if error/last_error > 1.04:\n",
    "            learn_rate *= 0.7\n",
    "        elif error < last_error:\n",
    "            learn_rate *= 1.05\n",
    "        \n",
    "        last_error = error\n",
    "            \n",
    "        if epoch%1000 == 0:\n",
    "            print(error)\n",
    "    \n",
    "    if np.min(weights)<0:\n",
    "        weights = weights-np.min(weights)\n",
    "    weights = weights/np.sum(weights)\n",
    "    #norm_weights = weights/np.sum(weights)\n",
    "\n",
    "    return (weights, error)\n",
    "\n",
    "(proportions, error) = optimize_sharpe(10000, 0.001)\n",
    "(proportions, error)"
   ]
  },
  {
   "cell_type": "markdown",
   "metadata": {},
   "source": [
    "Check that proportions add up to one.  Note that negative coefficients mean that you should be shorting that asset.  Since you gain capital from short selling a stock, it doesn't matter that the absolute values of all the assets exceeds 1.0."
   ]
  },
  {
   "cell_type": "code",
   "execution_count": 20,
   "metadata": {},
   "outputs": [
    {
     "data": {
      "text/plain": [
       "1.0"
      ]
     },
     "execution_count": 20,
     "metadata": {},
     "output_type": "execute_result"
    }
   ],
   "source": [
    "np.sum(proportions)"
   ]
  },
  {
   "cell_type": "markdown",
   "metadata": {},
   "source": [
    "Print out the optimal set of investments."
   ]
  },
  {
   "cell_type": "code",
   "execution_count": 21,
   "metadata": {},
   "outputs": [
    {
     "name": "stdout",
     "output_type": "stream",
     "text": [
      "Portion of portfolio allocated to each asset:\n",
      "MSFT:  0.0530908605688\n",
      "AXP:  0.0521669411439\n",
      "BA:  0.0793305866345\n",
      "CAT:  0.0754022233442\n",
      "CVX:  0.0358391733146\n",
      "CSCO:  0.0561452095357\n",
      "KO:  0.0193191515018\n",
      "DIS:  0.0276931177897\n",
      "XOM:  0.0243796745766\n",
      "GE:  0.00270537708667\n",
      "GS:  0.0558893789151\n",
      "HD:  0.0482047347027\n",
      "IBM:  0.0259695296038\n",
      "JNJ:  0.029153920617\n",
      "JPM:  0.0539660916195\n",
      "MCD:  0.0343752788249\n",
      "MRK:  0.0162824754119\n",
      "NKE:  0.0479521664225\n",
      "PFE:  0.0339563077635\n",
      "PG:  0.0137270249858\n",
      "UTX:  0.0397457950647\n",
      "UNH:  0.0489437581202\n",
      "VZ:  0.0335695633777\n",
      "V:  0.048920265631\n",
      "WMT:  0.0432713934432\n",
      "Daily risk:  1.00701214877  standard deviation in daily return\n",
      "Daily return:  1.00087023885  daily return\n",
      "Daily Sharpe =  0.993900858167\n",
      "Yearly risk:  11.7312165914  standard deviation in percent return\n",
      "Yearly return:  24.5086274145  expected yearly percent return\n"
     ]
    }
   ],
   "source": [
    "print(\"Portion of portfolio allocated to each asset:\")\n",
    "for i in range(len(assets)):\n",
    "    print(stocksymlist[i] + \": \", proportions[i])\n",
    "      \n",
    "portfolio_risk = np.exp(risk(proportions))\n",
    "portfolio_rate = np.exp(return_rate(proportions))\n",
    "print(\"Daily risk: \", portfolio_risk, \" standard deviation in daily return\")\n",
    "print(\"Daily return: \", portfolio_rate, \" daily return\")\n",
    "print(\"Daily Sharpe = \", portfolio_rate/portfolio_risk)\n",
    "\n",
    "yearly_risk = 100*np.exp((252**0.5)*risk(proportions))-100\n",
    "yearly_return = 100*np.exp(252*return_rate(proportions))-100\n",
    "\n",
    "print(\"Yearly risk: \", yearly_risk, \" standard deviation in percent return\")\n",
    "print(\"Yearly return: \", yearly_return, \" expected yearly percent return\")"
   ]
  },
  {
   "cell_type": "markdown",
   "metadata": {},
   "source": [
    "While this may seem like an unusually high rate of return, the past year did see a boom in the stock market.  It is also a feasible value, as the fastest growing stock among those we considered grew at a rate of over 100 percent in the past year, as we can see below:"
   ]
  },
  {
   "cell_type": "code",
   "execution_count": 22,
   "metadata": {},
   "outputs": [
    {
     "data": {
      "text/plain": [
       "2.0123361767928309"
      ]
     },
     "execution_count": 22,
     "metadata": {},
     "output_type": "execute_result"
    }
   ],
   "source": [
    "np.exp(target_rate*250)"
   ]
  },
  {
   "cell_type": "markdown",
   "metadata": {},
   "source": [
    "Also, it makes sense that the benefits of diversification are minimal since there was a booming market and therefore highly correlated stocks"
   ]
  },
  {
   "cell_type": "markdown",
   "metadata": {},
   "source": [
    "Now we'll print out the risk and return for each of the assets we considered"
   ]
  },
  {
   "cell_type": "code",
   "execution_count": 24,
   "metadata": {},
   "outputs": [
    {
     "name": "stdout",
     "output_type": "stream",
     "text": [
      "Asset Yearly return Yearly risk\n",
      "MSFT 1.00152853019 1.01119876735 0.990436858239\n",
      "AXP 1.00082632549 1.01058993132 0.990338706606\n",
      "BA 1.00280110107 1.01383942912 0.989112350796\n",
      "CAT 1.00194260151 1.01409893402 0.988012675988\n",
      "CVX 1.00000399728 1.01123720115 0.988891623188\n",
      "CSCO 1.00109627513 1.01209290113 0.989134766204\n",
      "KO 1.00011737216 1.0070293243 0.993136295065\n",
      "DIS 0.999707412881 1.01141320008 0.988426305685\n",
      "XOM 0.999651547448 1.00911555271 0.990621485088\n",
      "GE 0.996957337389 1.01546763452 0.981771652293\n",
      "GS 1.00019039773 1.01368941688 0.986683278999\n",
      "HD 1.00090181088 1.01072615221 0.990279917756\n",
      "IBM 0.999405461088 1.01149223277 0.988050554134\n",
      "JNJ 1.00019392648 1.00940911361 0.990870711387\n",
      "JPM 1.00095132885 1.01092512801 0.990133988273\n",
      "MCD 1.0008473959 1.00961043852 0.991320372412\n",
      "MRK 0.999203574821 1.01098835987 0.988343302931\n",
      "NKE 1.00069135708 1.01511032077 0.985795668316\n",
      "PFE 1.00026843774 1.00925554652 0.991095309004\n",
      "PG 0.999432383339 1.00787362727 0.991624700056\n",
      "UTX 1.00074154002 1.0105089121 0.990334204916\n",
      "UNH 1.00120191934 1.01094868028 0.990358797498\n",
      "VZ 0.999857773561 1.01182149791 0.988176052426\n",
      "V 1.00131137183 1.00980748569 0.991586402377\n",
      "WMT 1.00103014162 1.01388136797 0.987324723823\n",
      "Best sharpe of individual stock:  0.993136295065\n",
      "Our Sharpe:  0.993900858167\n"
     ]
    }
   ],
   "source": [
    "print(\"Asset\", \"Yearly return\", \"Yearly risk\")\n",
    "best_sharpe = float(0)\n",
    "for i in range(len(assets)):\n",
    "    sharpe = np.exp(drifts[i])/np.exp(sigmas[i])\n",
    "    if sharpe > best_sharpe:\n",
    "        best_sharpe = sharpe\n",
    "    print(stocksymlist[i], np.exp(drifts[i]), np.exp(sigmas[i]), sharpe)\n",
    "print(\"Best sharpe of individual stock: \", best_sharpe)\n",
    "print(\"Our Sharpe: \", portfolio_rate/portfolio_risk)"
   ]
  },
  {
   "cell_type": "code",
   "execution_count": null,
   "metadata": {
    "collapsed": true
   },
   "outputs": [],
   "source": []
  },
  {
   "cell_type": "code",
   "execution_count": null,
   "metadata": {
    "collapsed": true
   },
   "outputs": [],
   "source": []
  }
 ],
 "metadata": {
  "kernelspec": {
   "display_name": "Python 3",
   "language": "python",
   "name": "python3"
  },
  "language_info": {
   "codemirror_mode": {
    "name": "ipython",
    "version": 3
   },
   "file_extension": ".py",
   "mimetype": "text/x-python",
   "name": "python",
   "nbconvert_exporter": "python",
   "pygments_lexer": "ipython3",
   "version": "3.6.3"
  }
 },
 "nbformat": 4,
 "nbformat_minor": 2
}
